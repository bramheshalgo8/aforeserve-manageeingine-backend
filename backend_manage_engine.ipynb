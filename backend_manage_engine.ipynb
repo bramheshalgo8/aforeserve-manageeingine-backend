{
 "cells": [
  {
   "cell_type": "code",
   "execution_count": 1,
   "metadata": {},
   "outputs": [
    {
     "name": "stdout",
     "output_type": "stream",
     "text": [
      " * Serving Flask app \"__main__\" (lazy loading)\n",
      " * Environment: production\n",
      "\u001b[31m   WARNING: This is a development server. Do not use it in a production deployment.\u001b[0m\n",
      "\u001b[2m   Use a production WSGI server instead.\u001b[0m\n",
      " * Debug mode: off\n"
     ]
    },
    {
     "name": "stderr",
     "output_type": "stream",
     "text": [
      " * Running on http://0.0.0.0:7006/ (Press CTRL+C to quit)\n",
      "139.5.254.242 - - [24/Jul/2020 09:44:17] \"\u001b[37mGET /getalluniqueid HTTP/1.1\u001b[0m\" 200 -\n",
      "139.5.254.242 - - [24/Jul/2020 09:44:17] \"\u001b[37mGET /inoutserver/d4e6993dcd8011ea98dd08979870b990 HTTP/1.1\u001b[0m\" 200 -\n"
     ]
    },
    {
     "name": "stdout",
     "output_type": "stream",
     "text": [
      "          Hostname   IP_Address                            MAC_ID  \\\n",
      "0  LAPTOP-KE0MC8QD  192.168.0.5  d4e6993dcd8011ea98dd08979870b990   \n",
      "\n",
      "  Serial_Number                 OS_Version Laptop_Desktop  \\\n",
      "0         12345  Windows-10-10.0.18362-SP0           desk   \n",
      "\n",
      "               IN_SERVER          OUT_SERVER Direct_Printers User_Name  \n",
      "0  outlook.office365.com  smtp.office365.com               2     hseth  \n",
      "outlook.office365.com smtp.office365.com\n"
     ]
    },
    {
     "name": "stderr",
     "output_type": "stream",
     "text": [
      "139.5.254.242 - - [24/Jul/2020 09:44:18] \"\u001b[37mGET /userdetails/old/LAPTOP-KE0MC8QD/192.168.0.5/d4e6993dcd8011ea98dd08979870b990/12345/Windows-10-10.0.18362-SP0/desk/outlook.office365.com/smtp.office365.com/2/hseth HTTP/1.1\u001b[0m\" 200 -\n"
     ]
    },
    {
     "name": "stdout",
     "output_type": "stream",
     "text": [
      "LAPTOP-KE0MC8QD 192.168.0.5 d4e6993dcd8011ea98dd08979870b990 12345 Windows-10-10.0.18362-SP0 desk outlook.office365.com smtp.office365.com 2 hseth\n",
      "update userdetails set Hostname='LAPTOP-KE0MC8QD', IP_Address='192.168.0.5' , Serial_Number='12345' , OS_Version='Windows-10-10.0.18362-SP0' , Laptop_Desktop='desk', Direct_Printers='2' , User_Name='hseth' where MAC_ID = 'd4e6993dcd8011ea98dd08979870b990';\n",
      "Email_to_be_configured Email_to_be_configured hardik d4e6993dcd8011ea98dd08979870b990\n"
     ]
    },
    {
     "name": "stderr",
     "output_type": "stream",
     "text": [
      "/usr/lib/python3/dist-packages/urllib3/connectionpool.py:860: InsecureRequestWarning: Unverified HTTPS request is being made. Adding certificate verification is strongly advised. See: https://urllib3.readthedocs.io/en/latest/advanced-usage.html#ssl-warnings\n",
      "  InsecureRequestWarning)\n"
     ]
    },
    {
     "name": "stdout",
     "output_type": "stream",
     "text": [
      "37\n"
     ]
    },
    {
     "name": "stderr",
     "output_type": "stream",
     "text": [
      "/usr/lib/python3/dist-packages/urllib3/connectionpool.py:860: InsecureRequestWarning: Unverified HTTPS request is being made. Adding certificate verification is strongly advised. See: https://urllib3.readthedocs.io/en/latest/advanced-usage.html#ssl-warnings\n",
      "  InsecureRequestWarning)\n"
     ]
    },
    {
     "name": "stdout",
     "output_type": "stream",
     "text": [
      "10\n",
      "Finding ticket attributes and storing it in a dataframe\n",
      "37 picked up\n"
     ]
    },
    {
     "name": "stderr",
     "output_type": "stream",
     "text": [
      "/usr/lib/python3/dist-packages/urllib3/connectionpool.py:860: InsecureRequestWarning: Unverified HTTPS request is being made. Adding certificate verification is strongly advised. See: https://urllib3.readthedocs.io/en/latest/advanced-usage.html#ssl-warnings\n",
      "  InsecureRequestWarning)\n",
      "/usr/lib/python3/dist-packages/urllib3/connectionpool.py:860: InsecureRequestWarning: Unverified HTTPS request is being made. Adding certificate verification is strongly advised. See: https://urllib3.readthedocs.io/en/latest/advanced-usage.html#ssl-warnings\n",
      "  InsecureRequestWarning)\n"
     ]
    },
    {
     "name": "stdout",
     "output_type": "stream",
     "text": [
      "{'response_status': {'status_code': 2000, 'messages': [{'status_code': 2000, 'type': 'success', 'message': 'Request(s) picked up successfully.'}], 'status': 'success'}}\n",
      "Finding ticket attributes and storing it in a dataframe\n",
      "Finding ticket attributes and storing it in a dataframe\n",
      "Finding ticket attributes and storing it in a dataframe\n",
      "Finding ticket attributes and storing it in a dataframe\n",
      "Finding ticket attributes and storing it in a dataframe\n",
      "Finding ticket attributes and storing it in a dataframe\n",
      "Finding ticket attributes and storing it in a dataframe\n",
      "Finding ticket attributes and storing it in a dataframe\n",
      "Finding ticket attributes and storing it in a dataframe\n",
      "1 1 1 1 1 1 1 1 1 1 1 1 1 1 1 1\n",
      "df sorted is\n",
      "   Incident ID             Description Private Log       Caller Tenant  \\\n",
      "0          37  Email_to_be_configured        None  Sunny Singh   None   \n",
      "\n",
      "  User_Mail Location Medium Source            Logged Time  Urgency  \\\n",
      "0      None     None   None   None  Jul 24, 2020 03:14 PM    False   \n",
      "\n",
      "                   Impact Priority Work Group Assigned To Service Window  \\\n",
      "0  Email_to_be_configured     None       None        None           None   \n",
      "\n",
      "                             MAC_ID  \n",
      "0  d4e6993dcd8011ea98dd08979870b990  \n"
     ]
    },
    {
     "name": "stderr",
     "output_type": "stream",
     "text": [
      "/home/dev/.local/lib/python3.6/site-packages/sklearn/base.py:306: UserWarning: Trying to unpickle estimator TfidfTransformer from version 0.20.4 when using version 0.21.2. This might lead to breaking code or invalid results. Use at your own risk.\n",
      "  UserWarning)\n",
      "/home/dev/.local/lib/python3.6/site-packages/sklearn/base.py:306: UserWarning: Trying to unpickle estimator TfidfVectorizer from version 0.20.4 when using version 0.21.2. This might lead to breaking code or invalid results. Use at your own risk.\n",
      "  UserWarning)\n",
      "/home/dev/.local/lib/python3.6/site-packages/sklearn/base.py:306: UserWarning: Trying to unpickle estimator LabelEncoder from version 0.20.4 when using version 0.21.2. This might lead to breaking code or invalid results. Use at your own risk.\n",
      "  UserWarning)\n"
     ]
    },
    {
     "name": "stdout",
     "output_type": "stream",
     "text": [
      "Index(['Incident ID', 'Description', 'Private Log', 'Caller', 'Tenant',\n",
      "       'User_Mail', 'Location', 'Medium', 'Source', 'Logged Time', 'Urgency',\n",
      "       'Impact', 'Priority', 'Work Group', 'Assigned To', 'Service Window',\n",
      "       'MAC_ID', 'predicted_class_num'],\n",
      "      dtype='object')\n",
      "updated\n"
     ]
    },
    {
     "name": "stderr",
     "output_type": "stream",
     "text": [
      "139.5.254.242 - - [24/Jul/2020 09:44:58] \"\u001b[37mGET /newt/Email_to_be_configured/Email_to_be_configured/hardik/d4e6993dcd8011ea98dd08979870b990 HTTP/1.1\u001b[0m\" 200 -\n"
     ]
    },
    {
     "name": "stdout",
     "output_type": "stream",
     "text": [
      "update tickets set Status='Resolved' where `Incident ID` = '37';\n",
      "select * from tickets where `Incident ID` ='37';\n",
      "Others\n",
      "  Incident ID             Description Private Log       Caller Tenant  \\\n",
      "0          37  Email_to_be_configured        None  Sunny Singh   None   \n",
      "\n",
      "  User_Mail Location Medium Source            Logged Time  ...  \\\n",
      "0      None     None   None   None  Jul 24, 2020 03:14 PM  ...   \n",
      "\n",
      "                   Impact Priority Work Group Assigned To Service Window  \\\n",
      "0  Email_to_be_configured     None       None        None           None   \n",
      "\n",
      "  predicted_class_num Issue_Class    Status  \\\n",
      "0                   2      Others  Resolved   \n",
      "\n",
      "                               Solution                            MAC_ID  \n",
      "0  Issue has been successfully resolved  d4e6993dcd8011ea98dd08979870b990  \n",
      "\n",
      "[1 rows x 21 columns]\n",
      "update tickets set Solution='Issue has been successfully resolved', Status='Resolved' where `Incident ID` = '37';\n"
     ]
    },
    {
     "name": "stderr",
     "output_type": "stream",
     "text": [
      "/usr/lib/python3/dist-packages/urllib3/connectionpool.py:860: InsecureRequestWarning: Unverified HTTPS request is being made. Adding certificate verification is strongly advised. See: https://urllib3.readthedocs.io/en/latest/advanced-usage.html#ssl-warnings\n",
      "  InsecureRequestWarning)\n",
      "139.5.254.242 - - [24/Jul/2020 09:46:07] \"\u001b[37mGET /upt/37 HTTP/1.1\u001b[0m\" 200 -\n",
      "139.5.254.242 - - [24/Jul/2020 09:46:18] \"\u001b[37mGET /know/d4e6993dcd8011ea98dd08979870b990 HTTP/1.1\u001b[0m\" 200 -\n",
      "139.5.254.242 - - [24/Jul/2020 09:46:24] \"\u001b[37mGET /oldt/37 HTTP/1.1\u001b[0m\" 200 -\n"
     ]
    },
    {
     "name": "stdout",
     "output_type": "stream",
     "text": [
      "Disk_full_disk_clean_to_be_configured disk_full_disk_clean_to_be_configured hseth d4e6993dcd8011ea98dd08979870b990\n"
     ]
    },
    {
     "name": "stderr",
     "output_type": "stream",
     "text": [
      "/usr/lib/python3/dist-packages/urllib3/connectionpool.py:860: InsecureRequestWarning: Unverified HTTPS request is being made. Adding certificate verification is strongly advised. See: https://urllib3.readthedocs.io/en/latest/advanced-usage.html#ssl-warnings\n",
      "  InsecureRequestWarning)\n"
     ]
    },
    {
     "name": "stdout",
     "output_type": "stream",
     "text": [
      "38\n"
     ]
    },
    {
     "name": "stderr",
     "output_type": "stream",
     "text": [
      "/usr/lib/python3/dist-packages/urllib3/connectionpool.py:860: InsecureRequestWarning: Unverified HTTPS request is being made. Adding certificate verification is strongly advised. See: https://urllib3.readthedocs.io/en/latest/advanced-usage.html#ssl-warnings\n",
      "  InsecureRequestWarning)\n"
     ]
    },
    {
     "name": "stdout",
     "output_type": "stream",
     "text": [
      "10\n",
      "Finding ticket attributes and storing it in a dataframe\n",
      "38 picked up\n"
     ]
    },
    {
     "name": "stderr",
     "output_type": "stream",
     "text": [
      "/usr/lib/python3/dist-packages/urllib3/connectionpool.py:860: InsecureRequestWarning: Unverified HTTPS request is being made. Adding certificate verification is strongly advised. See: https://urllib3.readthedocs.io/en/latest/advanced-usage.html#ssl-warnings\n",
      "  InsecureRequestWarning)\n",
      "/usr/lib/python3/dist-packages/urllib3/connectionpool.py:860: InsecureRequestWarning: Unverified HTTPS request is being made. Adding certificate verification is strongly advised. See: https://urllib3.readthedocs.io/en/latest/advanced-usage.html#ssl-warnings\n",
      "  InsecureRequestWarning)\n"
     ]
    },
    {
     "name": "stdout",
     "output_type": "stream",
     "text": [
      "{'response_status': {'status_code': 2000, 'messages': [{'status_code': 2000, 'type': 'success', 'message': 'Request(s) picked up successfully.'}], 'status': 'success'}}\n",
      "Finding ticket attributes and storing it in a dataframe\n",
      "Finding ticket attributes and storing it in a dataframe\n",
      "Finding ticket attributes and storing it in a dataframe\n",
      "Finding ticket attributes and storing it in a dataframe\n",
      "Finding ticket attributes and storing it in a dataframe\n",
      "Finding ticket attributes and storing it in a dataframe\n",
      "Finding ticket attributes and storing it in a dataframe\n",
      "Finding ticket attributes and storing it in a dataframe\n",
      "Finding ticket attributes and storing it in a dataframe\n",
      "1 1 1 1 1 1 1 1 1 1 1 1 1 1 1 1\n",
      "df sorted is\n",
      "   Incident ID                            Description Private Log       Caller  \\\n",
      "0          38  disk_full_disk_clean_to_be_configured        None  Sunny Singh   \n",
      "\n",
      "  Tenant User_Mail Location Medium Source            Logged Time  Urgency  \\\n",
      "0   None      None     None   None   None  Jul 24, 2020 03:16 PM    False   \n",
      "\n",
      "                                  Impact Priority Work Group Assigned To  \\\n",
      "0  Disk_full_disk_clean_to_be_configured     None       None        None   \n",
      "\n",
      "  Service Window                            MAC_ID  \n",
      "0           None  d4e6993dcd8011ea98dd08979870b990  \n",
      "Index(['Incident ID', 'Description', 'Private Log', 'Caller', 'Tenant',\n",
      "       'User_Mail', 'Location', 'Medium', 'Source', 'Logged Time', 'Urgency',\n",
      "       'Impact', 'Priority', 'Work Group', 'Assigned To', 'Service Window',\n",
      "       'MAC_ID', 'predicted_class_num'],\n",
      "      dtype='object')\n",
      "updated\n"
     ]
    },
    {
     "name": "stderr",
     "output_type": "stream",
     "text": [
      "139.5.254.242 - - [24/Jul/2020 09:46:58] \"\u001b[37mGET /newt/Disk_full_disk_clean_to_be_configured/disk_full_disk_clean_to_be_configured/hseth/d4e6993dcd8011ea98dd08979870b990 HTTP/1.1\u001b[0m\" 200 -\n"
     ]
    },
    {
     "name": "stdout",
     "output_type": "stream",
     "text": [
      "asdasdsadasdasdasd sadasdasdas_asdasd_sadasdas hseth d4e6993dcd8011ea98dd08979870b990\n"
     ]
    },
    {
     "name": "stderr",
     "output_type": "stream",
     "text": [
      "/usr/lib/python3/dist-packages/urllib3/connectionpool.py:860: InsecureRequestWarning: Unverified HTTPS request is being made. Adding certificate verification is strongly advised. See: https://urllib3.readthedocs.io/en/latest/advanced-usage.html#ssl-warnings\n",
      "  InsecureRequestWarning)\n"
     ]
    },
    {
     "name": "stdout",
     "output_type": "stream",
     "text": [
      "39\n"
     ]
    },
    {
     "name": "stderr",
     "output_type": "stream",
     "text": [
      "/usr/lib/python3/dist-packages/urllib3/connectionpool.py:860: InsecureRequestWarning: Unverified HTTPS request is being made. Adding certificate verification is strongly advised. See: https://urllib3.readthedocs.io/en/latest/advanced-usage.html#ssl-warnings\n",
      "  InsecureRequestWarning)\n"
     ]
    },
    {
     "name": "stdout",
     "output_type": "stream",
     "text": [
      "10\n",
      "Finding ticket attributes and storing it in a dataframe\n",
      "39 picked up\n"
     ]
    },
    {
     "name": "stderr",
     "output_type": "stream",
     "text": [
      "/usr/lib/python3/dist-packages/urllib3/connectionpool.py:860: InsecureRequestWarning: Unverified HTTPS request is being made. Adding certificate verification is strongly advised. See: https://urllib3.readthedocs.io/en/latest/advanced-usage.html#ssl-warnings\n",
      "  InsecureRequestWarning)\n",
      "/usr/lib/python3/dist-packages/urllib3/connectionpool.py:860: InsecureRequestWarning: Unverified HTTPS request is being made. Adding certificate verification is strongly advised. See: https://urllib3.readthedocs.io/en/latest/advanced-usage.html#ssl-warnings\n",
      "  InsecureRequestWarning)\n"
     ]
    },
    {
     "name": "stdout",
     "output_type": "stream",
     "text": [
      "{'response_status': {'status_code': 2000, 'messages': [{'status_code': 2000, 'type': 'success', 'message': 'Request(s) picked up successfully.'}], 'status': 'success'}}\n",
      "Finding ticket attributes and storing it in a dataframe\n",
      "Finding ticket attributes and storing it in a dataframe\n",
      "Finding ticket attributes and storing it in a dataframe\n",
      "Finding ticket attributes and storing it in a dataframe\n",
      "Finding ticket attributes and storing it in a dataframe\n",
      "Finding ticket attributes and storing it in a dataframe\n",
      "Finding ticket attributes and storing it in a dataframe\n",
      "Finding ticket attributes and storing it in a dataframe\n",
      "Finding ticket attributes and storing it in a dataframe\n",
      "1 1 1 1 1 1 1 1 1 1 1 1 1 1 1 1\n",
      "df sorted is\n",
      "   Incident ID                  Description Private Log       Caller Tenant  \\\n",
      "0          39  sadasdasdas_asdasd_sadasdas        None  Sunny Singh   None   \n",
      "\n",
      "  User_Mail Location Medium Source            Logged Time  Urgency  \\\n",
      "0      None     None   None   None  Jul 24, 2020 03:18 PM    False   \n",
      "\n",
      "               Impact Priority Work Group Assigned To Service Window  \\\n",
      "0  asdasdsadasdasdasd     None       None        None           None   \n",
      "\n",
      "                             MAC_ID  \n",
      "0  d4e6993dcd8011ea98dd08979870b990  \n",
      "Index(['Incident ID', 'Description', 'Private Log', 'Caller', 'Tenant',\n",
      "       'User_Mail', 'Location', 'Medium', 'Source', 'Logged Time', 'Urgency',\n",
      "       'Impact', 'Priority', 'Work Group', 'Assigned To', 'Service Window',\n",
      "       'MAC_ID', 'predicted_class_num'],\n",
      "      dtype='object')\n",
      "updated\n"
     ]
    },
    {
     "name": "stderr",
     "output_type": "stream",
     "text": [
      "139.5.254.242 - - [24/Jul/2020 09:48:12] \"\u001b[37mGET /newt/asdasdsadasdasdasd/sadasdasdas_asdasd_sadasdas/hseth/d4e6993dcd8011ea98dd08979870b990 HTTP/1.1\u001b[0m\" 200 -\n",
      "139.5.254.242 - - [24/Jul/2020 09:48:22] \"\u001b[37mGET /know/d4e6993dcd8011ea98dd08979870b990 HTTP/1.1\u001b[0m\" 200 -\n",
      "139.5.254.242 - - [24/Jul/2020 09:48:28] \"\u001b[37mGET /oldt/37 HTTP/1.1\u001b[0m\" 200 -\n",
      "139.5.254.242 - - [24/Jul/2020 09:48:57] \"\u001b[37mGET /oldt/37 HTTP/1.1\u001b[0m\" 200 -\n",
      "139.5.254.242 - - [24/Jul/2020 09:49:27] \"\u001b[37mGET /oldt/37 HTTP/1.1\u001b[0m\" 200 -\n",
      "139.5.254.242 - - [24/Jul/2020 09:52:52] \"\u001b[37mGET /getalluniqueid HTTP/1.1\u001b[0m\" 200 -\n",
      "139.5.254.242 - - [24/Jul/2020 09:52:52] \"\u001b[37mGET /inoutserver/d4e6993dcd8011ea98dd08979870b990 HTTP/1.1\u001b[0m\" 200 -\n"
     ]
    },
    {
     "name": "stdout",
     "output_type": "stream",
     "text": [
      "          Hostname   IP_Address                            MAC_ID  \\\n",
      "0  LAPTOP-KE0MC8QD  192.168.0.5  d4e6993dcd8011ea98dd08979870b990   \n",
      "\n",
      "  Serial_Number                 OS_Version Laptop_Desktop  \\\n",
      "0         12345  Windows-10-10.0.18362-SP0           desk   \n",
      "\n",
      "               IN_SERVER          OUT_SERVER Direct_Printers User_Name  \n",
      "0  outlook.office365.com  smtp.office365.com               2     hseth  \n",
      "outlook.office365.com smtp.office365.com\n"
     ]
    },
    {
     "name": "stderr",
     "output_type": "stream",
     "text": [
      "139.5.254.242 - - [24/Jul/2020 09:52:53] \"\u001b[37mGET /userdetails/old/LAPTOP-KE0MC8QD/192.168.0.5/d4e6993dcd8011ea98dd08979870b990/12345/Windows-10-10.0.18362-SP0/desk/outlook.office365.com/smtp.office365.com/2/hseth HTTP/1.1\u001b[0m\" 200 -\n"
     ]
    },
    {
     "name": "stdout",
     "output_type": "stream",
     "text": [
      "LAPTOP-KE0MC8QD 192.168.0.5 d4e6993dcd8011ea98dd08979870b990 12345 Windows-10-10.0.18362-SP0 desk outlook.office365.com smtp.office365.com 2 hseth\n",
      "update userdetails set Hostname='LAPTOP-KE0MC8QD', IP_Address='192.168.0.5' , Serial_Number='12345' , OS_Version='Windows-10-10.0.18362-SP0' , Laptop_Desktop='desk', Direct_Printers='2' , User_Name='hseth' where MAC_ID = 'd4e6993dcd8011ea98dd08979870b990';\n"
     ]
    },
    {
     "name": "stderr",
     "output_type": "stream",
     "text": [
      "139.5.254.242 - - [24/Jul/2020 09:53:05] \"\u001b[37mGET /know/d4e6993dcd8011ea98dd08979870b990 HTTP/1.1\u001b[0m\" 200 -\n",
      "139.5.254.242 - - [24/Jul/2020 09:53:11] \"\u001b[37mGET /oldt/39 HTTP/1.1\u001b[0m\" 200 -\n",
      "139.5.254.242 - - [24/Jul/2020 09:53:29] \"\u001b[37mGET /oldt/38 HTTP/1.1\u001b[0m\" 200 -\n",
      "139.5.254.242 - - [24/Jul/2020 09:53:38] \"\u001b[37mGET /oldt/37 HTTP/1.1\u001b[0m\" 200 -\n",
      "139.5.254.242 - - [24/Jul/2020 09:53:53] \"\u001b[37mGET /oldt/39 HTTP/1.1\u001b[0m\" 200 -\n"
     ]
    }
   ],
   "source": [
    "from flask import Flask, request, render_template, jsonify\n",
    "import random\n",
    "from apscheduler.schedulers.background import BackgroundScheduler\n",
    "import manage_engine_ticket_raising\n",
    "from predict import *\n",
    "import pandas as pd\n",
    "import create_db\n",
    "import mail_send\n",
    "import manage_engine_updation\n",
    "\n",
    "app = Flask(__name__)\n",
    "\n",
    "@app.route('/newt/<subject>/<description>/<requester_name>/<macid>', methods = ['GET','POST'])\n",
    "def newt(subject, description, requester_name, macid):\n",
    "    print(subject, description, requester_name, macid)\n",
    "    r_json = manage_engine_ticket_raising.ticket_raising(subject, description, \"sunny singh\", \"301\")\n",
    "#     print(r_json)\n",
    "    t_id = r_json['request']['id']\n",
    "#     t_id = \"456\"\n",
    "    print(t_id)\n",
    "    predict(macid)\n",
    "    mail_send.raiseticket('hardik.seth@prithvi.ai','issue',t_id)\n",
    "    return str(t_id)\n",
    "\n",
    "@app.route('/inoutserver/<macid>')\n",
    "def inoutserver(macid):\n",
    "    df = create_db.getuser_Data()\n",
    "    df = df.loc[df['MAC_ID']==macid]\n",
    "    print(df)\n",
    "    ins = df['IN_SERVER'].values[0]\n",
    "    outs = df['OUT_SERVER'].values[0]\n",
    "    print(ins,outs)\n",
    "    data = {\n",
    "        'inserver':str(ins),\n",
    "        'outserver':str(outs)\n",
    "    }\n",
    "    return jsonify({'inserver':str(ins),'outserver':str(outs)})\n",
    "\n",
    "@app.route('/userdetails/<key>/<Hostname>/<IP_Address>/<MAC_ID>/<Serial_Number>/<OS_Version>/<Laptop_Desktop>/<IN_SERVER>/<OUT_SERVER>/<Direct_Printers>/<User_Name>', methods=['GET', 'POST'])\n",
    "def userdetail(key,Hostname, IP_Address, MAC_ID, Serial_Number, OS_Version, Laptop_Desktop, IN_SERVER, OUT_SERVER, Direct_Printers, User_Name):\n",
    "    if key == 'old':\n",
    "        print(Hostname, IP_Address, MAC_ID, Serial_Number, OS_Version, Laptop_Desktop, IN_SERVER, OUT_SERVER, Direct_Printers, User_Name)\n",
    "        df = create_db.getuser_Data()\n",
    "        if len(df.loc[df[\"MAC_ID\"] == MAC_ID])>0:\n",
    "            create_db.adduser_update(Hostname, IP_Address, MAC_ID, Serial_Number, OS_Version, Laptop_Desktop, IN_SERVER, OUT_SERVER, Direct_Printers, User_Name)\n",
    "        else:\n",
    "            create_db.adduser_details(Hostname, IP_Address, MAC_ID, Serial_Number, OS_Version, Laptop_Desktop, IN_SERVER, OUT_SERVER, Direct_Printers, User_Name)\n",
    "        return \"done\"\n",
    "    elif key == 'new':\n",
    "        query = \"insert into userdetails values('1','1','\"+str(MAC_ID)+\"','1','1','1','outlook.office365.com','smtp.office365.com','1','1');\"\n",
    "        res = create_db.createnewuser(query)\n",
    "        return 'done'\n",
    "\n",
    "@app.route('/oldt/<tid>', methods = ['GET', 'POST'])\n",
    "def oldt(tid):\n",
    "    query = \"select * from tickets where `Incident ID` = '\"+str(tid)+\"';\"\n",
    "    df = create_db.fetchquery(query)\n",
    "    text = 'You had '+str(df.loc[df[\"Incident ID\"] == str(tid)].Description.values[0])+' issue and status is '+str(df.loc[df[\"Incident ID\"] == str(tid)].Status.values[0])\n",
    "    return text\n",
    "\n",
    "@app.route('/upt/<tid>', methods = ['GET','POST'])\n",
    "def upt(tid):\n",
    "    outp = create_db.updatenew(tid)\n",
    "#     df = create_db.get_data()\n",
    "    query = \"select * from tickets where `Incident ID` ='\"+str(tid)+\"';\"\n",
    "    print(query)\n",
    "    df = create_db.fetchquery(query)\n",
    "    print(df[\"Issue_Class\"][0])\n",
    "    manage_engine_updation.updatetickets(str(tid),'Resolved','Issue has been successfully resolved')\n",
    "    mail_send.updateticket(\"hardik.seth@prithvi.ai\",df[\"Issue_Class\"][0],str(tid))\n",
    "    if outp == 'Updated':\n",
    "        return 'Ticket resolved successfully'\n",
    "    else:\n",
    "        return 'Some Error While Resolving Issue'\n",
    "    return 'Ticket resolved successfully'\n",
    "\n",
    "\n",
    "@app.route('/know/<macid>',methods = ['GET','POST'])\n",
    "def know(macid):\n",
    "    query = \"select * from tickets where MAC_ID = '\"+macid+\"';\"\n",
    "    df = create_db.fetchquery(query)\n",
    "    df = df.to_json()\n",
    "    return df\n",
    "\n",
    "@app.route('/getalluniqueid', methods = ['GET','POST'])\n",
    "def getall():\n",
    "    query = 'select MAC_ID from userdetails'\n",
    "    df = create_db.fetchquery(query)\n",
    "    df = df.to_json()\n",
    "    return df\n",
    "if __name__ == '__main__':\n",
    "    app.run(host = '0.0.0.0', port = 7006)"
   ]
  },
  {
   "cell_type": "code",
   "execution_count": null,
   "metadata": {},
   "outputs": [],
   "source": []
  },
  {
   "cell_type": "code",
   "execution_count": null,
   "metadata": {},
   "outputs": [],
   "source": []
  }
 ],
 "metadata": {
  "kernelspec": {
   "display_name": "Python 3",
   "language": "python",
   "name": "python3"
  },
  "language_info": {
   "codemirror_mode": {
    "name": "ipython",
    "version": 3
   },
   "file_extension": ".py",
   "mimetype": "text/x-python",
   "name": "python",
   "nbconvert_exporter": "python",
   "pygments_lexer": "ipython3",
   "version": "3.6.9"
  }
 },
 "nbformat": 4,
 "nbformat_minor": 4
}
