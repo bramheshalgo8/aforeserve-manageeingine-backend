{
 "cells": [
  {
   "cell_type": "code",
   "execution_count": 2,
   "metadata": {},
   "outputs": [
    {
     "name": "stderr",
     "output_type": "stream",
     "text": [
      "/usr/lib/python3/dist-packages/urllib3/connectionpool.py:860: InsecureRequestWarning: Unverified HTTPS request is being made. Adding certificate verification is strongly advised. See: https://urllib3.readthedocs.io/en/latest/advanced-usage.html#ssl-warnings\n",
      "  InsecureRequestWarning)\n"
     ]
    },
    {
     "name": "stdout",
     "output_type": "stream",
     "text": [
      "10\n",
      "Finding ticket attributes and storing it in a dataframe\n",
      "13 picked up\n"
     ]
    },
    {
     "name": "stderr",
     "output_type": "stream",
     "text": [
      "/usr/lib/python3/dist-packages/urllib3/connectionpool.py:860: InsecureRequestWarning: Unverified HTTPS request is being made. Adding certificate verification is strongly advised. See: https://urllib3.readthedocs.io/en/latest/advanced-usage.html#ssl-warnings\n",
      "  InsecureRequestWarning)\n",
      "/usr/lib/python3/dist-packages/urllib3/connectionpool.py:860: InsecureRequestWarning: Unverified HTTPS request is being made. Adding certificate verification is strongly advised. See: https://urllib3.readthedocs.io/en/latest/advanced-usage.html#ssl-warnings\n",
      "  InsecureRequestWarning)\n"
     ]
    },
    {
     "name": "stdout",
     "output_type": "stream",
     "text": [
      "Finding ticket attributes and storing it in a dataframe\n",
      "12 picked up\n"
     ]
    },
    {
     "name": "stderr",
     "output_type": "stream",
     "text": [
      "/usr/lib/python3/dist-packages/urllib3/connectionpool.py:860: InsecureRequestWarning: Unverified HTTPS request is being made. Adding certificate verification is strongly advised. See: https://urllib3.readthedocs.io/en/latest/advanced-usage.html#ssl-warnings\n",
      "  InsecureRequestWarning)\n",
      "/usr/lib/python3/dist-packages/urllib3/connectionpool.py:860: InsecureRequestWarning: Unverified HTTPS request is being made. Adding certificate verification is strongly advised. See: https://urllib3.readthedocs.io/en/latest/advanced-usage.html#ssl-warnings\n",
      "  InsecureRequestWarning)\n"
     ]
    },
    {
     "name": "stdout",
     "output_type": "stream",
     "text": [
      "Finding ticket attributes and storing it in a dataframe\n",
      "11 picked up\n"
     ]
    },
    {
     "name": "stderr",
     "output_type": "stream",
     "text": [
      "/usr/lib/python3/dist-packages/urllib3/connectionpool.py:860: InsecureRequestWarning: Unverified HTTPS request is being made. Adding certificate verification is strongly advised. See: https://urllib3.readthedocs.io/en/latest/advanced-usage.html#ssl-warnings\n",
      "  InsecureRequestWarning)\n",
      "/usr/lib/python3/dist-packages/urllib3/connectionpool.py:860: InsecureRequestWarning: Unverified HTTPS request is being made. Adding certificate verification is strongly advised. See: https://urllib3.readthedocs.io/en/latest/advanced-usage.html#ssl-warnings\n",
      "  InsecureRequestWarning)\n"
     ]
    },
    {
     "name": "stdout",
     "output_type": "stream",
     "text": [
      "Finding ticket attributes and storing it in a dataframe\n",
      "10 picked up\n"
     ]
    },
    {
     "name": "stderr",
     "output_type": "stream",
     "text": [
      "/usr/lib/python3/dist-packages/urllib3/connectionpool.py:860: InsecureRequestWarning: Unverified HTTPS request is being made. Adding certificate verification is strongly advised. See: https://urllib3.readthedocs.io/en/latest/advanced-usage.html#ssl-warnings\n",
      "  InsecureRequestWarning)\n",
      "/usr/lib/python3/dist-packages/urllib3/connectionpool.py:860: InsecureRequestWarning: Unverified HTTPS request is being made. Adding certificate verification is strongly advised. See: https://urllib3.readthedocs.io/en/latest/advanced-usage.html#ssl-warnings\n",
      "  InsecureRequestWarning)\n"
     ]
    },
    {
     "name": "stdout",
     "output_type": "stream",
     "text": [
      "Finding ticket attributes and storing it in a dataframe\n",
      "9 picked up\n"
     ]
    },
    {
     "name": "stderr",
     "output_type": "stream",
     "text": [
      "/usr/lib/python3/dist-packages/urllib3/connectionpool.py:860: InsecureRequestWarning: Unverified HTTPS request is being made. Adding certificate verification is strongly advised. See: https://urllib3.readthedocs.io/en/latest/advanced-usage.html#ssl-warnings\n",
      "  InsecureRequestWarning)\n",
      "/usr/lib/python3/dist-packages/urllib3/connectionpool.py:860: InsecureRequestWarning: Unverified HTTPS request is being made. Adding certificate verification is strongly advised. See: https://urllib3.readthedocs.io/en/latest/advanced-usage.html#ssl-warnings\n",
      "  InsecureRequestWarning)\n"
     ]
    },
    {
     "name": "stdout",
     "output_type": "stream",
     "text": [
      "Finding ticket attributes and storing it in a dataframe\n",
      "Finding ticket attributes and storing it in a dataframe\n",
      "Finding ticket attributes and storing it in a dataframe\n",
      "Finding ticket attributes and storing it in a dataframe\n",
      "Finding ticket attributes and storing it in a dataframe\n"
     ]
    },
    {
     "ename": "ValueError",
     "evalue": "arrays must all be same length",
     "output_type": "error",
     "traceback": [
      "\u001b[0;31m---------------------------------------------------------------------------\u001b[0m",
      "\u001b[0;31mValueError\u001b[0m                                Traceback (most recent call last)",
      "\u001b[0;32m<ipython-input-2-3c49d8f38af6>\u001b[0m in \u001b[0;36m<module>\u001b[0;34m\u001b[0m\n\u001b[1;32m    183\u001b[0m     \u001b[0;32mreturn\u001b[0m \u001b[0mdf\u001b[0m\u001b[0;34m,\u001b[0m \u001b[0mnum_of_tickets\u001b[0m\u001b[0;34m\u001b[0m\u001b[0;34m\u001b[0m\u001b[0m\n\u001b[1;32m    184\u001b[0m \u001b[0;34m\u001b[0m\u001b[0m\n\u001b[0;32m--> 185\u001b[0;31m \u001b[0ms\u001b[0m \u001b[0;34m=\u001b[0m \u001b[0mloginAndFetchTickets\u001b[0m\u001b[0;34m(\u001b[0m\u001b[0;34m)\u001b[0m\u001b[0;34m\u001b[0m\u001b[0;34m\u001b[0m\u001b[0m\n\u001b[0m\u001b[1;32m    186\u001b[0m \u001b[0;34m\u001b[0m\u001b[0m\n",
      "\u001b[0;32m<ipython-input-2-3c49d8f38af6>\u001b[0m in \u001b[0;36mloginAndFetchTickets\u001b[0;34m()\u001b[0m\n\u001b[1;32m    168\u001b[0m                \u001b[0;34m'Urgency'\u001b[0m\u001b[0;34m:\u001b[0m \u001b[0murg\u001b[0m\u001b[0;34m,\u001b[0m \u001b[0;34m'Impact'\u001b[0m\u001b[0;34m:\u001b[0m \u001b[0mimp\u001b[0m\u001b[0;34m,\u001b[0m \u001b[0;34m'Priority'\u001b[0m\u001b[0;34m:\u001b[0m \u001b[0mpr\u001b[0m\u001b[0;34m,\u001b[0m\u001b[0;31m \u001b[0m\u001b[0;31m\\\u001b[0m\u001b[0;34m\u001b[0m\u001b[0;34m\u001b[0m\u001b[0m\n\u001b[1;32m    169\u001b[0m                'Work Group': wg, 'Assigned To': at, 'Service Window': sw}  # ,'Resolution Code':rc,'Solution':soln,}\n\u001b[0;32m--> 170\u001b[0;31m     \u001b[0mdf\u001b[0m \u001b[0;34m=\u001b[0m \u001b[0mpd\u001b[0m\u001b[0;34m.\u001b[0m\u001b[0mDataFrame\u001b[0m\u001b[0;34m(\u001b[0m\u001b[0mdf_dict\u001b[0m\u001b[0;34m,\u001b[0m \u001b[0mindex\u001b[0m\u001b[0;34m=\u001b[0m\u001b[0;32mNone\u001b[0m\u001b[0;34m)\u001b[0m\u001b[0;34m\u001b[0m\u001b[0;34m\u001b[0m\u001b[0m\n\u001b[0m\u001b[1;32m    171\u001b[0m \u001b[0;34m\u001b[0m\u001b[0m\n\u001b[1;32m    172\u001b[0m     \u001b[0mprint\u001b[0m\u001b[0;34m(\u001b[0m\u001b[0;34m'df unsorted is'\u001b[0m\u001b[0;34m,\u001b[0m \u001b[0mdf\u001b[0m\u001b[0;34m)\u001b[0m\u001b[0;34m\u001b[0m\u001b[0;34m\u001b[0m\u001b[0m\n",
      "\u001b[0;32m~/.local/lib/python3.6/site-packages/pandas/core/frame.py\u001b[0m in \u001b[0;36m__init__\u001b[0;34m(self, data, index, columns, dtype, copy)\u001b[0m\n\u001b[1;32m    408\u001b[0m             )\n\u001b[1;32m    409\u001b[0m         \u001b[0;32melif\u001b[0m \u001b[0misinstance\u001b[0m\u001b[0;34m(\u001b[0m\u001b[0mdata\u001b[0m\u001b[0;34m,\u001b[0m \u001b[0mdict\u001b[0m\u001b[0;34m)\u001b[0m\u001b[0;34m:\u001b[0m\u001b[0;34m\u001b[0m\u001b[0;34m\u001b[0m\u001b[0m\n\u001b[0;32m--> 410\u001b[0;31m             \u001b[0mmgr\u001b[0m \u001b[0;34m=\u001b[0m \u001b[0minit_dict\u001b[0m\u001b[0;34m(\u001b[0m\u001b[0mdata\u001b[0m\u001b[0;34m,\u001b[0m \u001b[0mindex\u001b[0m\u001b[0;34m,\u001b[0m \u001b[0mcolumns\u001b[0m\u001b[0;34m,\u001b[0m \u001b[0mdtype\u001b[0m\u001b[0;34m=\u001b[0m\u001b[0mdtype\u001b[0m\u001b[0;34m)\u001b[0m\u001b[0;34m\u001b[0m\u001b[0;34m\u001b[0m\u001b[0m\n\u001b[0m\u001b[1;32m    411\u001b[0m         \u001b[0;32melif\u001b[0m \u001b[0misinstance\u001b[0m\u001b[0;34m(\u001b[0m\u001b[0mdata\u001b[0m\u001b[0;34m,\u001b[0m \u001b[0mma\u001b[0m\u001b[0;34m.\u001b[0m\u001b[0mMaskedArray\u001b[0m\u001b[0;34m)\u001b[0m\u001b[0;34m:\u001b[0m\u001b[0;34m\u001b[0m\u001b[0;34m\u001b[0m\u001b[0m\n\u001b[1;32m    412\u001b[0m             \u001b[0;32mimport\u001b[0m \u001b[0mnumpy\u001b[0m\u001b[0;34m.\u001b[0m\u001b[0mma\u001b[0m\u001b[0;34m.\u001b[0m\u001b[0mmrecords\u001b[0m \u001b[0;32mas\u001b[0m \u001b[0mmrecords\u001b[0m\u001b[0;34m\u001b[0m\u001b[0;34m\u001b[0m\u001b[0m\n",
      "\u001b[0;32m~/.local/lib/python3.6/site-packages/pandas/core/internals/construction.py\u001b[0m in \u001b[0;36minit_dict\u001b[0;34m(data, index, columns, dtype)\u001b[0m\n\u001b[1;32m    255\u001b[0m             \u001b[0marr\u001b[0m \u001b[0;32mif\u001b[0m \u001b[0;32mnot\u001b[0m \u001b[0mis_datetime64tz_dtype\u001b[0m\u001b[0;34m(\u001b[0m\u001b[0marr\u001b[0m\u001b[0;34m)\u001b[0m \u001b[0;32melse\u001b[0m \u001b[0marr\u001b[0m\u001b[0;34m.\u001b[0m\u001b[0mcopy\u001b[0m\u001b[0;34m(\u001b[0m\u001b[0;34m)\u001b[0m \u001b[0;32mfor\u001b[0m \u001b[0marr\u001b[0m \u001b[0;32min\u001b[0m \u001b[0marrays\u001b[0m\u001b[0;34m\u001b[0m\u001b[0;34m\u001b[0m\u001b[0m\n\u001b[1;32m    256\u001b[0m         ]\n\u001b[0;32m--> 257\u001b[0;31m     \u001b[0;32mreturn\u001b[0m \u001b[0marrays_to_mgr\u001b[0m\u001b[0;34m(\u001b[0m\u001b[0marrays\u001b[0m\u001b[0;34m,\u001b[0m \u001b[0mdata_names\u001b[0m\u001b[0;34m,\u001b[0m \u001b[0mindex\u001b[0m\u001b[0;34m,\u001b[0m \u001b[0mcolumns\u001b[0m\u001b[0;34m,\u001b[0m \u001b[0mdtype\u001b[0m\u001b[0;34m=\u001b[0m\u001b[0mdtype\u001b[0m\u001b[0;34m)\u001b[0m\u001b[0;34m\u001b[0m\u001b[0;34m\u001b[0m\u001b[0m\n\u001b[0m\u001b[1;32m    258\u001b[0m \u001b[0;34m\u001b[0m\u001b[0m\n\u001b[1;32m    259\u001b[0m \u001b[0;34m\u001b[0m\u001b[0m\n",
      "\u001b[0;32m~/.local/lib/python3.6/site-packages/pandas/core/internals/construction.py\u001b[0m in \u001b[0;36marrays_to_mgr\u001b[0;34m(arrays, arr_names, index, columns, dtype)\u001b[0m\n\u001b[1;32m     75\u001b[0m     \u001b[0;31m# figure out the index, if necessary\u001b[0m\u001b[0;34m\u001b[0m\u001b[0;34m\u001b[0m\u001b[0;34m\u001b[0m\u001b[0m\n\u001b[1;32m     76\u001b[0m     \u001b[0;32mif\u001b[0m \u001b[0mindex\u001b[0m \u001b[0;32mis\u001b[0m \u001b[0;32mNone\u001b[0m\u001b[0;34m:\u001b[0m\u001b[0;34m\u001b[0m\u001b[0;34m\u001b[0m\u001b[0m\n\u001b[0;32m---> 77\u001b[0;31m         \u001b[0mindex\u001b[0m \u001b[0;34m=\u001b[0m \u001b[0mextract_index\u001b[0m\u001b[0;34m(\u001b[0m\u001b[0marrays\u001b[0m\u001b[0;34m)\u001b[0m\u001b[0;34m\u001b[0m\u001b[0;34m\u001b[0m\u001b[0m\n\u001b[0m\u001b[1;32m     78\u001b[0m     \u001b[0;32melse\u001b[0m\u001b[0;34m:\u001b[0m\u001b[0;34m\u001b[0m\u001b[0;34m\u001b[0m\u001b[0m\n\u001b[1;32m     79\u001b[0m         \u001b[0mindex\u001b[0m \u001b[0;34m=\u001b[0m \u001b[0mensure_index\u001b[0m\u001b[0;34m(\u001b[0m\u001b[0mindex\u001b[0m\u001b[0;34m)\u001b[0m\u001b[0;34m\u001b[0m\u001b[0;34m\u001b[0m\u001b[0m\n",
      "\u001b[0;32m~/.local/lib/python3.6/site-packages/pandas/core/internals/construction.py\u001b[0m in \u001b[0;36mextract_index\u001b[0;34m(data)\u001b[0m\n\u001b[1;32m    366\u001b[0m             \u001b[0mlengths\u001b[0m \u001b[0;34m=\u001b[0m \u001b[0mlist\u001b[0m\u001b[0;34m(\u001b[0m\u001b[0mset\u001b[0m\u001b[0;34m(\u001b[0m\u001b[0mraw_lengths\u001b[0m\u001b[0;34m)\u001b[0m\u001b[0;34m)\u001b[0m\u001b[0;34m\u001b[0m\u001b[0;34m\u001b[0m\u001b[0m\n\u001b[1;32m    367\u001b[0m             \u001b[0;32mif\u001b[0m \u001b[0mlen\u001b[0m\u001b[0;34m(\u001b[0m\u001b[0mlengths\u001b[0m\u001b[0;34m)\u001b[0m \u001b[0;34m>\u001b[0m \u001b[0;36m1\u001b[0m\u001b[0;34m:\u001b[0m\u001b[0;34m\u001b[0m\u001b[0;34m\u001b[0m\u001b[0m\n\u001b[0;32m--> 368\u001b[0;31m                 \u001b[0;32mraise\u001b[0m \u001b[0mValueError\u001b[0m\u001b[0;34m(\u001b[0m\u001b[0;34m\"arrays must all be same length\"\u001b[0m\u001b[0;34m)\u001b[0m\u001b[0;34m\u001b[0m\u001b[0;34m\u001b[0m\u001b[0m\n\u001b[0m\u001b[1;32m    369\u001b[0m \u001b[0;34m\u001b[0m\u001b[0m\n\u001b[1;32m    370\u001b[0m             \u001b[0;32mif\u001b[0m \u001b[0mhave_dicts\u001b[0m\u001b[0;34m:\u001b[0m\u001b[0;34m\u001b[0m\u001b[0;34m\u001b[0m\u001b[0m\n",
      "\u001b[0;31mValueError\u001b[0m: arrays must all be same length"
     ]
    }
   ],
   "source": [
    "import pandas as pd\n",
    "import predicting_part\n",
    "import config\n",
    "import requests\n",
    "import json\n",
    "import create_db\n",
    "\n",
    "\n",
    "def loginAndFetchTickets():\n",
    "    # Fetching all requests currently in the ITSM tool\n",
    "    config.logger.info('Fetching all requests currently in the ITSM tool')\n",
    "    URL = \"https://182.75.252.43:8080/api/v3/requests\"\n",
    "    header = {\"Authtoken\": \"A8827317-282E-4BAF-B788-C6E830B2F934\"}\n",
    "    data = {\"input_data\": json.dumps({\"list_info\": {\n",
    "        \"search_fields\": {\n",
    "            \"status\": \"New\"\n",
    "        },\n",
    "        \"filter_by\": {\n",
    "            \"status\": \"New\"\n",
    "        }\n",
    "    }})}\n",
    "    # GET type request to fetch all tickets with parameters as auth key and data\n",
    "    config.logger.info('GET type request to fetch all tickets with parameters as auth key and data')\n",
    "    r = requests.get(url=URL, verify=False, headers=header, data=data)\n",
    "\n",
    "    config.logger.info('Converting the response to a readable json')\n",
    "    data = r.json() # Converting the response to a readable json\n",
    "\n",
    "    incd_id = []\n",
    "    sptm = []\n",
    "    prv_log = []\n",
    "    soln = []\n",
    "    cal = []\n",
    "    ten = []\n",
    "    loc = []\n",
    "    med = []\n",
    "    src = []\n",
    "    log_tm = []\n",
    "    urg = []\n",
    "    imp = []\n",
    "    pr = []\n",
    "    wg = []\n",
    "    at = []\n",
    "    sw = []\n",
    "    rc = []\n",
    "    emails = []\n",
    "    # Calculating number of tickets\n",
    "    config.logger.info('Calculating number of tickets')\n",
    "    num_of_tickets = data['list_info']['row_count']\n",
    "    print(num_of_tickets)\n",
    "\n",
    "    for row in data['requests']:\n",
    "        try:\n",
    "            print('Finding ticket attributes and storing it in a dataframe')\n",
    "            # This checks if the ticket is new\n",
    "            config.logger.info('Checking if the ticket is new')\n",
    "\n",
    "            if row['status']['name'] == 'New':\n",
    "                inc_id = row['id']\n",
    "                print(inc_id, \"picked up\")\n",
    "\n",
    "\n",
    "                data = {\"input_data\": json.dumps({\n",
    "                    \"request\": {\n",
    "                        \"status\": {\n",
    "                            \"name\": \"In Progress\"\n",
    "                        },\n",
    "                        'status_change_comments': \"Picked up by aforesight\"\n",
    "                    }})}\n",
    "                URL = \"https://182.75.252.43:8080/api/v3/requests/\" + str(inc_id)\n",
    "\n",
    "                # PUT request to update status to In Progress\n",
    "                config.logger.info('updating status to In Progress')\n",
    "\n",
    "                r1 = requests.put(url=URL, verify=False, headers=header, data=data)\n",
    "                #print(r1.json())\n",
    "                config.logger.info(\"Changed to In Progress\")\n",
    "\n",
    "                URL = \"https://182.75.252.43:8080/api/v3/requests/\" + str(inc_id) + \"/pickup\"\n",
    "                # PUT request for picking up ticket by AFORESIGHT\n",
    "                config.logger.info('picking up ticket by AFORESIGHT')\n",
    "                r2 = requests.put(url=URL, verify=False, headers=header)\n",
    "\n",
    "\n",
    "                config.logger.info(\"Assigned to Aforesight\")\n",
    "\n",
    "                incd_id.append(inc_id)\n",
    "\n",
    "                # This stores the symptoms and appends\n",
    "                symptom = row['short_description']\n",
    "                sptm.append(symptom)\n",
    "\n",
    "                # This stores the private log\n",
    "                private_logg = None\n",
    "                prv_log.append(private_logg)\n",
    "\n",
    "                # This stores the solution\n",
    "                sol = None\n",
    "                soln.append(sol)\n",
    "\n",
    "                # Caller\n",
    "                caller = row['requester']['name']\n",
    "                cal.append(caller)\n",
    "\n",
    "                # Tenant\n",
    "                tenant = row['technician']['name']\n",
    "                ten.append(tenant)\n",
    "\n",
    "                # Email\n",
    "\n",
    "                email = row['requester']['email_id']\n",
    "                emails.append(email)\n",
    "\n",
    "                # Location\n",
    "                location = row['site']\n",
    "                loc.append(location)\n",
    "\n",
    "                # Medium\n",
    "                medium = None\n",
    "                med.append(medium)\n",
    "\n",
    "                # Source\n",
    "                source = None\n",
    "                src.append(source)\n",
    "\n",
    "                # Logged Time\n",
    "                logg_time = row['created_time']['display_value']\n",
    "                log_tm.append(logg_time)\n",
    "\n",
    "                # Urgency\n",
    "                urgency = row['is_overdue']\n",
    "                urg.append(urgency)\n",
    "\n",
    "                # Impact\n",
    "                impact = row['subject']\n",
    "                imp.append(impact)\n",
    "\n",
    "                # Priority\n",
    "                priority = row['priority']\n",
    "                pr.append(priority)\n",
    "\n",
    "                # Workgroup\n",
    "                wrk_gp = row['requester']['department']\n",
    "                wg.append(wrk_gp)\n",
    "\n",
    "                # Assigned to\n",
    "                assg_to = row['technician']['name']\n",
    "                at.append(assg_to)\n",
    "\n",
    "                # Service window\n",
    "                serv_win = None\n",
    "                sw.append(serv_win)\n",
    "\n",
    "                # Resolution code\n",
    "                resol_code = None\n",
    "                rc.append(resol_code)\n",
    "\n",
    "            else:\n",
    "                continue\n",
    "\n",
    "        except Exception as e:\n",
    "\n",
    "            config.logger.info('Error in storing attributes of a ticket ' + str(e))\n",
    "\n",
    "    config.logger.info('Storing values in a dataframe')\n",
    "    df_dict = {'Incident ID': incd_id, 'Description': sptm, 'Private Log': prv_log, 'Caller': cal, 'Tenant': ten, \\\n",
    "               'User_Mail': emails, 'Location': loc, 'Medium': med, 'Source': src, 'Logged Time': log_tm,\n",
    "               'Urgency': urg, 'Impact': imp, 'Priority': pr, \\\n",
    "               'Work Group': wg, 'Assigned To': at, 'Service Window': sw}  # ,'Resolution Code':rc,'Solution':soln,}\n",
    "    df = pd.DataFrame(df_dict, index=None)\n",
    "\n",
    "    print('df unsorted is', df)\n",
    "    # df.sort_values(by='Incident ID',inplace=True)\n",
    "    df.to_csv('Incidents_no_pred.csv')\n",
    "    print('df sorted is', df)\n",
    "\n",
    "    #     df.to_excel('Incidents.xlsx',sheet_name='All_Incidents')\n",
    "\n",
    "    config.logger.info('Calling the prediction script for ticket classification')\n",
    "    df=predicting_part.predictionsOnEachTicket(df)\n",
    "    df.sort_values(by='Incident ID',inplace=True)\n",
    "    config.logger.info(\"Done\")\n",
    "    return df, num_of_tickets\n",
    "\n",
    "s = loginAndFetchTickets()\n",
    "\n"
   ]
  },
  {
   "cell_type": "code",
   "execution_count": null,
   "metadata": {},
   "outputs": [],
   "source": []
  }
 ],
 "metadata": {
  "kernelspec": {
   "display_name": "Python 3",
   "language": "python",
   "name": "python3"
  },
  "language_info": {
   "codemirror_mode": {
    "name": "ipython",
    "version": 3
   },
   "file_extension": ".py",
   "mimetype": "text/x-python",
   "name": "python",
   "nbconvert_exporter": "python",
   "pygments_lexer": "ipython3",
   "version": "3.6.9"
  }
 },
 "nbformat": 4,
 "nbformat_minor": 4
}
